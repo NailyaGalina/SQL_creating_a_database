{
 "cells": [
  {
   "cell_type": "markdown",
   "metadata": {},
   "source": [
    "### Создание базы данных для библиотеки\n",
    "\n",
    "Пусть необходимо будет хранить информацию о читателях (номер читательского билета, ФИО, адрес, телефон), хранимых книгах (шифр, автор, название, количество экземпляров), а также о выдаче книг на руки с указанием даты выдачи и срока возврата, размере штрафа в случае просрочки."
   ]
  },
  {
   "cell_type": "markdown",
   "metadata": {},
   "source": [
    "**1. Напишем скрипт для создания таблицы Читатели (readers) со следующей структурой:**  \n",
    "![Скриншот](table_readers.png)"
   ]
  },
  {
   "cell_type": "markdown",
   "metadata": {},
   "source": [
    "CREATE TABLE readers (  \n",
    "    READER_NUM INT AUTO_INCREMENT PRIMARY KEY,  \n",
    "    READER_NAME VARCHAR(100),  \n",
    "    READER_ADRESS VARCHAR(1000),   \n",
    "    READER_PHONE VARCHAR(100) NOT NULL  \n",
    ");"
   ]
  },
  {
   "cell_type": "markdown",
   "metadata": {},
   "source": [
    "**2. Напишем скрипт для создания таблицы Книги (books) со следующей структурой:**\n",
    "![Скриншот](table_books.png)"
   ]
  },
  {
   "cell_type": "markdown",
   "metadata": {},
   "source": [
    "CREATE TABLE books (  \n",
    "    BOOK_NUM INT AUTO_INCREMENT PRIMARY KEY,  \n",
    "    BOOK_AUTHOR VARCHAR(100),  \n",
    "    BOOK_NAME VARCHAR(1000),  \n",
    "    BOOK_COUNT INT NOT NULL DEFAULT 0  \n",
    ");"
   ]
  },
  {
   "cell_type": "markdown",
   "metadata": {},
   "source": [
    "**3. Напишем скрипт для создания таблицы Выдача книг(books_in_use) со следующей структурой:**  \n",
    "![Скриншот](table_books_in_use.png)"
   ]
  },
  {
   "cell_type": "markdown",
   "metadata": {},
   "source": [
    "В первичный ключ входят три столбца (Дата выдачи также входит в первичный ключ, потому что один и тот же читатель может брать книгу несколько раз). \n",
    "\n",
    "Создадим два внешних ключа при создании таблицы books_in_use:\n",
    "\n",
    "1) Свяжет таблицу books_in_use и books по шифру книги\n",
    "\n",
    "2) Свяжет таблицу books_in_use и readers по номеру читательского билета."
   ]
  },
  {
   "cell_type": "markdown",
   "metadata": {},
   "source": [
    "CREATE TABLE books_in_use (  \n",
    "    READER_NUM INT,  \n",
    "    BOOK_NUM INT,  \n",
    "    ISSUE_DATE DATE,  \n",
    "    RETURN_DATE DATE,  \n",
    "    RETURN_PERIOD TINYINT NOT NULL DEFAULT 14,  \n",
    "    FINE_AMOUNT DECIMAL(10,2) NOT NULL DEFAULT 0,  \n",
    "    PRIMARY KEY(READER_NUM, BOOK_NUM, ISSUE_DATE),  \n",
    "    FOREIGN KEY (BOOK_NUM) REFERENCES books(BOOK_NUM),  \n",
    "    FOREIGN KEY (READER_NUM) REFERENCES readers(READER_NUM)  \n",
    ");"
   ]
  },
  {
   "cell_type": "markdown",
   "metadata": {},
   "source": [
    "В результате должна получиться следующая структура нашей БД:  \n",
    "![Скриншот](Схема_библиотеки.png)"
   ]
  },
  {
   "cell_type": "markdown",
   "metadata": {},
   "source": [
    "**4. Заполним таблицу readers следующими данными:**  \n",
    "![Скриншот](table_readers_2.png)"
   ]
  },
  {
   "cell_type": "markdown",
   "metadata": {},
   "source": [
    "INSERT INTO readers (reader_name, reader_adress, reader_phone)  \n",
    "VALUES   \n",
    "('Сидоров', 'ул. Ленина, 5а', '4424556'),  \n",
    "('Ванюшкин', 'ул. Космонавтов, д. 31, кв. 143', '4545222'),  \n",
    "('Дроздов', 'ул. Ленина, д. 3, кв. 13', '8955454'),  \n",
    "('Голубева', 'ул. Тимирязева, д. 35, кв. 18', '5454555'),  \n",
    "('Шишкин', 'ул. Революции, д. 16/7, кв. 45', '454564564'),  \n",
    "('Книголюбова', 'ул. Пушкина, д. 38', '54664545'),  \n",
    "('Петров', 'ул. Пушкина, д. 31, кв. 16', '6115646'),  \n",
    "('Паринова', null, '46488484'),  \n",
    "('Птичкина', 'ул. Зеленая, д. 3/7', '65545445'),  \n",
    "('Дроздов', 'ул. Конструкторов, д. 89, кв. 14', '546544');"
   ]
  },
  {
   "cell_type": "markdown",
   "metadata": {},
   "source": [
    "**5. Заполним таблицу books следующими данными:**  \n",
    "![Скриншот](table_books_2.png)"
   ]
  },
  {
   "cell_type": "markdown",
   "metadata": {},
   "source": [
    "INSERT INTO books (book_author, book_name, book_count)  \n",
    "VALUES  \n",
    "('Толстой', 'Война и мир', 15),  \n",
    "('Достоевский', 'Идиот', 13),  \n",
    "('Пушкин', 'Евгений Онегин', 18),  \n",
    "('Пушкин', 'Руслан и Людмила', 5),  \n",
    "('Пушкин', 'Медный всадник', 11),  \n",
    "('Барто', 'Стихи детям', 1),  \n",
    "('Чехов', 'Вишневый сад', 8),  \n",
    "('Чехов', 'Дядя Ваня', 7),  \n",
    "('Тургенев', 'Отцы и дети', 13),  \n",
    "('Тургенев', 'Муму', 4);"
   ]
  },
  {
   "cell_type": "markdown",
   "metadata": {},
   "source": [
    "**6. Заполним таблицу books_in_use следующими данными:**  \n",
    "Для заполнения books_in_use будем использовать DEFAULT-значения для столбцов return_period и fine_amount, а не явное заполнение числами.  \n",
    "![Скриншот](table_books_in_use_2.png)"
   ]
  },
  {
   "cell_type": "markdown",
   "metadata": {},
   "source": [
    "INSERT INTO books_in_use (reader_num, book_num, issue_date, return_date)  \n",
    "VALUES  \n",
    "(1, 1, '2023-09-15', '2023-10-17'),  \n",
    "(1, 8, '2023-10-17', null),  \n",
    "(2, 1, '2023-10-04', '2023-10-16'),  \n",
    "(3, 2, '2023-09-11', '2023-09-30'),  \n",
    "(3, 4, '2023-09-11', '2023-09-30'),  \n",
    "(3, 5, '2023-09-11', '2023-09-30'),  \n",
    "(4, 1, '2023-09-28', '2023-10-05'),  \n",
    "(4, 3, '2023-09-28', '2023-10-05'),  \n",
    "(4, 8, '2023-10-05', '2023-10-31'),  \n",
    "(5, 6, '2023-09-14', '2023-10-14'),  \n",
    "(6, 1, '2023-09-09', '2023-09-20'),  \n",
    "(6, 1, '2023-09-20', '2023-10-01'),  \n",
    "(7, 1, '2023-09-13', '2023-09-21'),  \n",
    "(7, 7, '2023-09-21', '2023-10-20'),  \n",
    "(8, 7, '2023-09-11', null);"
   ]
  },
  {
   "cell_type": "markdown",
   "metadata": {},
   "source": [
    "**7. Заполним столбец fine_amount (сумма штрафа) в таблице books_in_use следующим образом:** \n",
    "\n",
    "За каждый день просрочки (дни, которые превышают return_period) начисляется штраф в размере 8,45 р.    \n",
    "\n",
    "Количество дней просрочки определяется как разница между Датой возврата книги и Датой выдачи   \n",
    "\n",
    "Если дата возврата не заполнена, значит книга еще в использовании, штраф не начисляем."
   ]
  },
  {
   "cell_type": "markdown",
   "metadata": {},
   "source": [
    "SET SQL_SAFE_UPDATES = 0;  \n",
    "UPDATE books_in_use  \n",
    "SET fine_amount = (DATEDIFF(return_date, issue_date) - return_period) * 8.45  \n",
    "WHERE return_date IS NOT NULL  \n",
    "  AND DATEDIFF(return_date, issue_date) > return_period;  \n",
    "SET SQL_SAFE_UPDATES = 1;"
   ]
  },
  {
   "cell_type": "markdown",
   "metadata": {},
   "source": [
    "Получившееся таблица readers имеет следующий вид:  \n",
    "![Скриншот](table_readers_3.png)"
   ]
  },
  {
   "cell_type": "markdown",
   "metadata": {},
   "source": [
    "Получившееся таблица books имеет следующий вид:\n",
    "![Скриншот](table_books_3.png)"
   ]
  },
  {
   "cell_type": "markdown",
   "metadata": {},
   "source": [
    "После обновления столбца Сумма штрафа таблица books_in_use имеет следующий вид:  \n",
    "![Скриншот](table_books_in_use_3.png)"
   ]
  },
  {
   "cell_type": "code",
   "execution_count": null,
   "metadata": {},
   "outputs": [],
   "source": []
  }
 ],
 "metadata": {
  "kernelspec": {
   "display_name": "Python 3",
   "language": "python",
   "name": "python3"
  },
  "language_info": {
   "codemirror_mode": {
    "name": "ipython",
    "version": 3
   },
   "file_extension": ".py",
   "mimetype": "text/x-python",
   "name": "python",
   "nbconvert_exporter": "python",
   "pygments_lexer": "ipython3",
   "version": "3.7.3"
  }
 },
 "nbformat": 4,
 "nbformat_minor": 4
}
